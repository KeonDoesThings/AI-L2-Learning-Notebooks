{
  "nbformat": 4,
  "nbformat_minor": 0,
  "metadata": {
    "colab": {
      "name": "Pizza Ordering System.ipynb",
      "provenance": [],
      "collapsed_sections": [],
      "authorship_tag": "ABX9TyM/EKJ6ZEZ7UytSiuHZ2q9t",
      "include_colab_link": true
    },
    "kernelspec": {
      "name": "python3",
      "display_name": "Python 3"
    },
    "language_info": {
      "name": "python"
    }
  },
  "cells": [
    {
      "cell_type": "markdown",
      "metadata": {
        "id": "view-in-github",
        "colab_type": "text"
      },
      "source": [
        "<a href=\"https://colab.research.google.com/github/KeonDoesThings/AI-L2-Learning-Notebooks/blob/main/Pizza_Ordering_System.ipynb\" target=\"_parent\"><img src=\"https://colab.research.google.com/assets/colab-badge.svg\" alt=\"Open In Colab\"/></a>"
      ]
    },
    {
      "cell_type": "code",
      "metadata": {
        "colab": {
          "base_uri": "https://localhost:8080/"
        },
        "id": "QQO4UuzCKLXW",
        "outputId": "1e34216a-2307-4f01-ba32-f03e84970269"
      },
      "source": [
        "ask = input(\"Hello this is Keon's Pizza, would you like to place an order? (Y/N) \\n\")\n",
        "#Dictionary of pizza names and different combinations of Bread, Meat, and Sauce Combinations\n",
        "pizzas = {\"Big Red\": \"LMN\", #Thick Crusts\n",
        "          \"Bacon Boom\": \"LMB\",\n",
        "          \"Pepperoni Explosion\": \"LMP\",\n",
        "          \"Red Ham\": \"LMH\",\n",
        "          \"Big Green\": \"LPN\",\n",
        "          \"Greeny Bacon Delight\": \"LPB\",\n",
        "          \"Thick Pepperoni Pesteroni\": \"LPP\",\n",
        "          \"Ham and Pesto Explosion\": \"LPH\",\n",
        "          \"Classic\": \"MMN\", #Medium Crusts\n",
        "          \"Canadian\": \"MMB\",\n",
        "          \"Toni Pepperoni\": \"MMP\",\n",
        "          \"Americana\": \"MMH\",\n",
        "          \"Pesto Franki\": \"MPN\",\n",
        "          \"Summer Sun\": \"MPB\",\n",
        "          \"The Grandmother\": \"MPP\",\n",
        "          \"Soprano\": \"MPH\",\n",
        "          \"Fratello\": \"SMN\", #Thin Crusts\n",
        "          \"Mama's Pizza\": \"SMB\",\n",
        "          \"Capone\": \"SMP\",\n",
        "          \"Salumi\": \"SMH\",\n",
        "          \"Piccola Pesto\": \"SPN\",\n",
        "          \"Brando\": \"SPB\",\n",
        "          \"Capri\": \"SPP\",\n",
        "          \"Primavera\": \"SPH\"\n",
        "          }\n",
        "\n",
        "#Dictionary of all pizzas and prices attached to each pizza\n",
        "pizzaPrices = {\"Big Red\": \"$13.99\", #Thick Crusts\n",
        "          \"Bacon Boom\": \"$14.99\",\n",
        "          \"Pepperoni Explosion\": \"$14.99\",\n",
        "          \"Red Ham\": \"$14.99\",\n",
        "          \"Big Green\": \"$12.99\",\n",
        "          \"Greeny Bacon Delight\": \"$13.99\",\n",
        "          \"Thick Pepperoni Pesteroni\": \"$13.99\",\n",
        "          \"Ham and Pesto Explosion\": \"$13.99\",\n",
        "          \"Classic\": \"$12.99\", #Medium Crusts\n",
        "          \"Canadian\": \"$13.99\",\n",
        "          \"Toni Pepperoni\": \"$13.99\",\n",
        "          \"Americana\": \"$13.99\",\n",
        "          \"Pesto Franki\": \"$11.99\",\n",
        "          \"Summer Sun\": \"$11.99\",\n",
        "          \"Grandma's Favourite\": \"$11.99\",\n",
        "          \"Soprano\": \"$11.99\",\n",
        "          \"Fratello\": \"$12.99\", #Thin Crusts\n",
        "          \"Mama's Pizza\": \"$13.99\",\n",
        "          \"Capone\": \"$13.99\",\n",
        "          \"Salumi\": \"$13.99\",\n",
        "          \"Piccola Pesto\": \"$11.99\",\n",
        "          \"Brando\": \"$11.99\",\n",
        "          \"Capri\": \"$11.99\",\n",
        "          \"Primavera\": \"$11.99\"\n",
        "          }\n",
        "\n",
        "if ask == \"Y\" or ask == \"y\" or ask == \"Yes\" or ask == \"yes\":\n",
        "\n",
        "#Choosing bread for pizza\n",
        "  bread = input(\"Great! So what dough do you want for your pizza? We have thin, regular, and thick crust.\\n\")\n",
        "  if bread == \"thin\" or bread == \"Thin\": #Changing full words to letters makes sorting simpler\n",
        "    bread = \"S\" #Small\n",
        "  if bread == \"regular\" or bread == \"Regular\":\n",
        "    bread = \"M\" #Medium\n",
        "  if bread == \"thick\" or bread == \"Thick\":\n",
        "    bread = \"L\" #Large\n",
        "\n",
        "#Choosing sauce for pizza\n",
        "  sauce = input(\"Sounds good! Next, what sauce do you want? We have marinara and pesto sauce.\\n\")\n",
        "  if sauce == \"marinara\" or sauce == \"Marinara\":\n",
        "    sauce = \"M\"\n",
        "  if sauce == \"pesto\" or sauce == \"Pesto\":\n",
        "    sauce = \"P\"\n",
        "\n",
        "#Choosing meat for pizza\n",
        "  meat = input(\"Ooh thats my favourite! Alright so now for the meat, we have pepperoni, bacon, ham, or you could choose to have no meat.\\n\")\n",
        "  if meat == \"pepperoni\" or meat == \"Pepperoni\":\n",
        "    meat = \"P\"\n",
        "  if meat == \"bacon\" or meat == \"Bacon\":\n",
        "    meat = \"B\"\n",
        "  if meat == \"ham\" or meat == \"Ham\":\n",
        "    meat = \"H\"\n",
        "  if meat == \"none\" or meat == \"None\" or meat == \"no\" or meat == \"No\" or meat == \"No meat\" or meat == \"no meat\":\n",
        "    meat = \"N\"\n",
        "\n",
        " #Choosing vegetables for pizza \n",
        "  vegetables = input(\"Good choice! Are there any vegetables that you want? We have mushroom, pepper, tomato, or you can have none.\\n\")\n",
        "  if vegetables == \"mushroom\" or vegetables == \"Mushroom\":\n",
        "    vegetables = \"mushroom\"\n",
        "  elif vegetables == \"Pepper\" or vegetables == \"pepper\":\n",
        "    vegetables = \"pepper\"\n",
        "  elif vegetables == \"tomato\" or vegetables == \"Tomato\":\n",
        "    vegetables = \"tomato\"\n",
        "  elif vegetables == \"none\" or vegetables == \"None\" or vegetables == \"no\" or vegetables == \"No\" or vegetables == \"No vegetables\" or vegetables == \"no vegetables\":\n",
        "    vegetables = \"N\"\n",
        "\n",
        "#choosing extra toppings\n",
        "  toppings = input(\"Alright. I have one more question, you can choose to add any ONE topping. \\n\\\n",
        "If so just tell us and we'll make it work. (Type 'None' to have none)\\n\")\n",
        "\n",
        "  finalPizza = bread + sauce + meat\n",
        "  #print(finalPizza)\n",
        "  if finalPizza in pizzas.values():\n",
        "    for i in pizzas.keys():\n",
        "      #print(i)\n",
        "      if pizzas[i] == finalPizza:\n",
        "        if vegetables != \"N\":\n",
        "          if toppings.upper() != \"NONE\":\n",
        "            print(\"You ordered a '\" + i + \"' with \" + vegetables + \" and \" + toppings + \".\") \n",
        "          else: print(\"You ordered a '\" + i + \"' with \" + vegetables + \".\")\n",
        "        else:\n",
        "          if toppings.upper() != \"NONE\":\n",
        "            print(\"You ordered a '\" + i + \"' with \" + toppings + \".\") \n",
        "          else:\n",
        "            print(\"You ordered a '\" + i + \"'.\")\n",
        "        print(\"Your pizza will cost \" + pizzaPrices[i] + \".\")\n",
        " \n",
        "  else:\n",
        "    print(\"Something you told us we didn't understand, could you please call us back?\")\n",
        "else:\n",
        "  print(\"Ok? Then why did you call us?\")"
      ],
      "execution_count": null,
      "outputs": [
        {
          "output_type": "stream",
          "name": "stdout",
          "text": [
            "Hello this is Keon's Pizza, would you like to place an order? (Y/N) \n",
            "y\n",
            "Great! So what dough do you want for your pizza? We have thin, regular, and thick crust.\n",
            "regular\n",
            "Sounds good! Next, what sauce do you want? We have marinara and pesto sauce.\n",
            "marinara\n",
            "Ooh thats my favourite! Alright so now for the meat, we have pepperoni, bacon, ham, or you could choose to have no meat.\n",
            "ham\n",
            "Good choice! Are there any vegetables that you want? We have mushroom, pepper, tomato, or you can have none.\n",
            "mushroom\n",
            "Alright. I have one more question, you can choose to add any ONE topping. \n",
            "If so just tell us and we'll make it work. (Type 'None' to have none)\n",
            "olives\n",
            "You ordered a 'Americana' with mushroom and olives.\n",
            "Your pizza will cost $13.99.\n"
          ]
        }
      ]
    },
    {
      "cell_type": "code",
      "metadata": {
        "id": "jJBWH91LOgVC"
      },
      "source": [
        ""
      ],
      "execution_count": null,
      "outputs": []
    }
  ]
}