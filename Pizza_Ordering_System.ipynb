{
  "nbformat": 4,
  "nbformat_minor": 0,
  "metadata": {
    "colab": {
      "name": "Pizza Ordering System.ipynb",
      "provenance": [],
      "collapsed_sections": [],
      "authorship_tag": "ABX9TyOaw/qGKFVgj/ShcavgCtMR",
      "include_colab_link": true
    },
    "kernelspec": {
      "display_name": "Python 3",
      "name": "python3"
    },
    "language_info": {
      "name": "python"
    }
  },
  "cells": [
    {
      "cell_type": "markdown",
      "metadata": {
        "id": "view-in-github",
        "colab_type": "text"
      },
      "source": [
        "<a href=\"https://colab.research.google.com/github/KeonDoesThings/AI-L2-Learning-Notebooks/blob/main/Pizza_Ordering_System.ipynb\" target=\"_parent\"><img src=\"https://colab.research.google.com/assets/colab-badge.svg\" alt=\"Open In Colab\"/></a>"
      ]
    },
    {
      "cell_type": "markdown",
      "metadata": {
        "id": "-r6HjNv_RUUm"
      },
      "source": [
        "1. put numbers next to the items the user chooses\n",
        "2. Print the list of toppings to choose from with numbers and price\n",
        "3. Using the try except block in python to handle user input errors\n",
        "\n",
        "Please add a description to the project by adding a '+text' field above your code, (since colab notebooks supports markdown in their text fields) you can choose to make it look bright and descriptive, share links to your github repo for the same in it. You could also simply copy the same description into your readme doc already in your github repo.\n",
        "\n",
        "The description could carry the following heads,\n",
        "The Problem Statement (Explain the problem your code is solving here)\n",
        "Expected Outcome/Output\n",
        "Methods, functions, and logic used to solve the problem\n",
        "Future modifications and upcoming features(Explain what you could not achieve in this attempt and could be a future feature update in the near future)"
      ]
    },
    {
      "cell_type": "code",
      "metadata": {
        "id": "5TlyNdUjQXSg"
      },
      "source": [
        "print(\"Welcome to Keon's Pizza.\")\n",
        "userName = input(\"What is your name?\")\n",
        "userPNum = input(\"What is your phone number?\")\n",
        "userAdrs = input(\"What is your address.\")\n",
        "userData = {\"name\" : userName, \"phoneNum\" : userPNum, \"address\" : userAdrs}\n",
        "totalCost = 0\n",
        "#ask = input(\"Hello this is Keon's Pizza, would you like to place an order? (Y/N) \\n\")\n",
        "\n",
        "#Dictionary of pizza names and different combinations of Bread, Meat, and Sauce Combinations and Costs\n",
        "pizzas = {\"Big Red\": [\"314\",14], #Thick Crusts\n",
        "          \"Bacon Boom\": [\"312\",15],\n",
        "          \"Pepperoni Explosion\": [\"311\",15],\n",
        "          \"Red Ham\": [\"313\",15],\n",
        "          \"Big Green\": [\"324\",13],\n",
        "          \"Greeny Bacon Delight\": [\"322\",14],\n",
        "          \"Thick Pepperoni Pesteroni\": [\"321\",14],\n",
        "          \"Ham and Pesto Explosion\": [\"323\",14],\n",
        "          \"Classic\": [\"214\",14], #Medium Crusts\n",
        "          \"Canadian\": [\"212\",14],\n",
        "          \"Toni Pepperoni\": [\"211\",14],\n",
        "          \"Americana\": [\"213\",14],\n",
        "          \"Pesto Franki\": [\"224\",12],\n",
        "          \"Summer Sun\": [\"222\",12],\n",
        "          \"The Grandmother\": [\"221\",12],\n",
        "          \"Soprano\": [\"223\",12],\n",
        "          \"Fratello\": [\"114\",13], #Thin Crusts\n",
        "          \"Mama's Pizza\": [\"112\",14],\n",
        "          \"Capone\": [\"111\",14],\n",
        "          \"Salumi\": [\"113\",14],\n",
        "          \"Piccola Pesto\": [\"124\",12],\n",
        "          \"Brando\": [\"122\",12],\n",
        "          \"Capri\": [\"121\",12],\n",
        "          \"Primavera\": [\"123\",12]\n",
        "          }\n",
        "\n",
        "toppings = {\"Olives\":1.00,\n",
        "            \"Broccoli\":1.25,\n",
        "            \"Zucchini\":1.00,\n",
        "            \"Tobasco Sauce\":1.10,\n",
        "            \"Pineapple\": 0.70,\n",
        "            \"BBQ Sauce\": 1.10}\n",
        "\n",
        "#Choosing bread for pizza\n",
        "bread = input(\"What dough do you want? Type 1 for thin, 2 for regular, and 3 for thick\\n\")\n",
        "\n",
        "#Choosing sauce for pizza\n",
        "sauce = input(\"What sauce do you want? Type 1 for marinara, and 2 for pesto.\\n\")\n",
        "\n",
        "#Choosing meat for pizza\n",
        "meat = input(\"Choose your meat: Type 1 for pepperoni, type 2 for bacon, type 3 for ham, type 4 for none.\\n\")\n",
        "\n",
        "\n",
        " #Choosing vegetables for pizza \n",
        "vegetables = input(\"What vegetables do you want? Type 1 for mushroom, type 2 for pepper, type 3 for tomato, type 4 for none.\\n\")\n",
        "if vegetables == \"1\":\n",
        "  vegetables = \"mushroom\"\n",
        "if vegetables == \"2\":\n",
        "  vegetables = \"pepper\"\n",
        "if vegetables == \"3\":\n",
        "  vegetables = \"tomato\"\n",
        "if vegetables == \"4\":\n",
        "  vegetables = \"none\"\n",
        "#choosing extra toppings\n",
        "print(\"Alright. There are also a selection of toppings you can choose from. We have:\")\n",
        "n = 1\n",
        "for x,y in toppings.items():\n",
        "  print(\"Type \"+str(n)+f\" for {x}: ${str(y)}\")\n",
        "  n = n + 1\n",
        "print(\"Type 7 to have none.\")\n",
        "toppingChoice = input(\"\")\n",
        "if toppingChoice == \"1\":\n",
        "  toppingChoice = \"Olives\"\n",
        "if toppingChoice == \"2\":\n",
        "  toppingChoice = \"Broccoli\"\n",
        "if toppingChoice == \"3\":\n",
        "  toppingChoice = \"Zucchini\"\n",
        "if toppingChoice == \"4\":\n",
        "  toppingChoice = \"Tobasco Sauce\"\n",
        "if toppingChoice == \"5\":\n",
        "  toppingChoice = \"Pineapple\"\n",
        "if toppingChoice == \"6\":\n",
        "  toppingChoice = \"BBQ Sauce\"\n",
        "if toppingChoice == \"7\":\n",
        "  toppingChoice = \"none\"\n",
        "if toppingChoice != \"none\":\n",
        "  totalCost = totalCost + toppings[toppingChoice]\n",
        "\n",
        "finalPizza = bread + sauce + meat\n",
        "\n",
        "for i in pizzas.keys():\n",
        "  if pizzas[i][0] == finalPizza:\n",
        "    if vegetables != \"N\":\n",
        "      if toppingChoice.upper() != \"NONE\":\n",
        "        print(\"You ordered a '\" + i + \"' with \" + vegetables + \" and \" + toppingChoice + \".\") \n",
        "      else: print(\"You ordered a '\" + i + \"' with \" + vegetables + \".\")\n",
        "    else:\n",
        "      if toppingChoice.upper() != \"NONE\":\n",
        "        print(\"You ordered a '\" + i + \"' with \" + toppingChoice + \".\") \n",
        "      else:\n",
        "        print(\"You ordered a '\" + i + \"'.\")\n",
        "    totalCost = totalCost + pizzas[i][1]\n",
        "    print(\"Your pizza will cost $\" + str(totalCost) + \".\")\n",
        "print(\"Thank you \" + userData[\"name\"] + \". Your pizza will be shipped to \" + userData[\"address\"] + \".\")\n"
      ],
      "execution_count": null,
      "outputs": []
    },
    {
      "cell_type": "code",
      "metadata": {
        "id": "jJBWH91LOgVC"
      },
      "source": [
        ""
      ],
      "execution_count": null,
      "outputs": []
    }
  ]
}